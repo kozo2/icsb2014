{
 "metadata": {
  "name": "",
  "signature": "sha256:7c0feb1f167308645e9f1e0516827fe61f3d15bd1bb81341d025ede1e1f1e18a"
 },
 "nbformat": 3,
 "nbformat_minor": 0,
 "worksheets": [
  {
   "cells": [
    {
     "cell_type": "markdown",
     "metadata": {},
     "source": [
      "# Mapping Drugbank drug targets on KEGG pathway\n",
      "Here we show a example of data integration. We map drug targets(from Drugbank) on KEGG pathway. To manage several tables, we use MongoDB and PyMongo.\n",
      "\n",
      "## Importing all data into MongoDB\n",
      "First we import [Alanine, aspartate and glutamate metabolism, eco00250](http://www.genome.jp/kegg-bin/show_pathway?eco00250)\n"
     ]
    },
    {
     "cell_type": "code",
     "collapsed": false,
     "input": [
      "import requests\n",
      "import json\n",
      "\n",
      "PORT_NUMBER = 1234\n",
      "BASE = 'http://localhost:' + str(PORT_NUMBER) + '/v1/'\n",
      "HEADERS = {'Content-Type': 'application/json'}\n",
      "\n",
      "requests.post(BASE + 'networks?source=url&collection=foo', data=json.dumps(['http://rest.kegg.jp/get/eco00250/kgml']), headers=HEADERS)"
     ],
     "language": "python",
     "metadata": {},
     "outputs": [
      {
       "metadata": {},
       "output_type": "pyout",
       "prompt_number": 6,
       "text": [
        "<Response [200]>"
       ]
      }
     ],
     "prompt_number": 6
    },
    {
     "cell_type": "markdown",
     "metadata": {},
     "source": [
      "and get node attribute table as alanine_nodes.csv"
     ]
    },
    {
     "cell_type": "code",
     "collapsed": false,
     "input": [
      "res = requests.get(BASE + 'networks')\n",
      "networkIds = eval(res.content)\n",
      "print networkIds"
     ],
     "language": "python",
     "metadata": {},
     "outputs": [
      {
       "output_type": "stream",
       "stream": "stdout",
       "text": [
        "[1428]\n"
       ]
      }
     ],
     "prompt_number": 50
    },
    {
     "cell_type": "code",
     "collapsed": false,
     "input": [
      "#res = requests.get(BASE + 'networks/' + str(networkIds[0]) + '/tables/defaultnode')\n",
      "res = requests.get(BASE + 'networks/' + str(networkIds[0]) + '/tables/defaultnode.csv')\n",
      "f = open('alanine_nodes.csv', 'w')\n",
      "f.write(res.content)\n",
      "f.close()"
     ],
     "language": "python",
     "metadata": {},
     "outputs": [],
     "prompt_number": 53
    },
    {
     "cell_type": "markdown",
     "metadata": {},
     "source": [
      "import alanine_nodes.csv into mongoDB"
     ]
    },
    {
     "cell_type": "code",
     "collapsed": false,
     "input": [
      "!mongoimport --db keggscape --collection alanine_nodes --headerline --type csv --file alanine_nodes.csv"
     ],
     "language": "python",
     "metadata": {},
     "outputs": [
      {
       "output_type": "stream",
       "stream": "stdout",
       "text": [
        "connected to: 127.0.0.1\r\n"
       ]
      },
      {
       "output_type": "stream",
       "stream": "stdout",
       "text": [
        "2014-09-12T20:35:27.764+0900 check 9 103\r\n",
        "2014-09-12T20:35:27.768+0900 imported 102 objects\r\n"
       ]
      }
     ],
     "prompt_number": 57
    },
    {
     "cell_type": "markdown",
     "metadata": {},
     "source": [
      "next we download DRUGBANK drugtarget and ID mapping table"
     ]
    },
    {
     "cell_type": "code",
     "collapsed": false,
     "input": [
      "!wget http://www.drugbank.ca/system/downloads/current/all_target_ids_all.csv.zip"
     ],
     "language": "python",
     "metadata": {},
     "outputs": [
      {
       "output_type": "stream",
       "stream": "stdout",
       "text": [
        "--2014-09-12 21:32:30--  http://www.drugbank.ca/system/downloads/current/all_target_ids_all.csv.zip\r\n",
        "Resolving www.drugbank.ca... "
       ]
      },
      {
       "output_type": "stream",
       "stream": "stdout",
       "text": [
        "162.243.242.197\r\n",
        "Connecting to www.drugbank.ca|162.243.242.197|:80... "
       ]
      },
      {
       "output_type": "stream",
       "stream": "stdout",
       "text": [
        "connected.\r\n",
        "HTTP request sent, awaiting response... "
       ]
      },
      {
       "output_type": "stream",
       "stream": "stdout",
       "text": [
        "200 OK\r\n",
        "Length: 207146 (202K) [application/zip]\r\n",
        "Saving to: 'all_target_ids_all.csv.zip'\r\n",
        "\r\n",
        "\r",
        " 0% [                                       ] 0           --.-K/s              "
       ]
      },
      {
       "output_type": "stream",
       "stream": "stdout",
       "text": [
        "\r",
        "15% [=====>                                 ] 32,832      83.1KB/s             "
       ]
      },
      {
       "output_type": "stream",
       "stream": "stdout",
       "text": [
        "\r",
        "35% [============>                          ] 72,504       121KB/s             "
       ]
      },
      {
       "output_type": "stream",
       "stream": "stdout",
       "text": [
        "\r",
        "63% [=======================>               ] 131,328      163KB/s             "
       ]
      },
      {
       "output_type": "stream",
       "stream": "stdout",
       "text": [
        "\r",
        "100%[======================================>] 207,146      205KB/s             \r",
        "100%[======================================>] 207,146      205KB/s   in 1.0s   \r\n",
        "\r\n",
        "2014-09-12 21:32:32 (205 KB/s) - 'all_target_ids_all.csv.zip' saved [207146/207146]\r\n",
        "\r\n"
       ]
      }
     ],
     "prompt_number": 63
    },
    {
     "cell_type": "code",
     "collapsed": false,
     "input": [
      "!unzip all_target_ids_all.csv.zip"
     ],
     "language": "python",
     "metadata": {},
     "outputs": [
      {
       "output_type": "stream",
       "stream": "stdout",
       "text": [
        "Archive:  all_target_ids_all.csv.zip\r\n",
        "  inflating: all_target_ids_all.csv  \r\n"
       ]
      }
     ],
     "prompt_number": 66
    },
    {
     "cell_type": "code",
     "collapsed": false,
     "input": [
      "!wget http://rest.kegg.jp/conv/eco/uniprot -O conv_eco_uniprot.tsv"
     ],
     "language": "python",
     "metadata": {},
     "outputs": [
      {
       "output_type": "stream",
       "stream": "stdout",
       "text": [
        "--2014-09-13 02:01:29--  http://rest.kegg.jp/conv/eco/uniprot\r\n",
        "Resolving rest.kegg.jp... 133.103.200.38\r\n",
        "Connecting to rest.kegg.jp|133.103.200.38|:80... connected.\r\n",
        "HTTP request sent, awaiting response... "
       ]
      },
      {
       "output_type": "stream",
       "stream": "stdout",
       "text": [
        "200 OK\r\n",
        "Length: unspecified [text/plain]\r\n",
        "Saving to: 'conv_eco_uniprot.tsv'\r\n",
        "\r\n",
        "\r",
        "    [<=>                                    ] 0           --.-K/s              "
       ]
      },
      {
       "output_type": "stream",
       "stream": "stdout",
       "text": [
        "\r",
        "    [ <=>                                   ] 86,920      --.-K/s   in 0.05s   \r\n",
        "\r\n",
        "2014-09-13 02:01:33 (1.61 MB/s) - 'conv_eco_uniprot.tsv' saved [86920]\r\n",
        "\r\n"
       ]
      }
     ],
     "prompt_number": 64
    },
    {
     "cell_type": "code",
     "collapsed": false,
     "input": [
      "!head conv_eco_uniprot.tsv"
     ],
     "language": "python",
     "metadata": {},
     "outputs": [
      {
       "output_type": "stream",
       "stream": "stdout",
       "text": [
        "up:A5A605\teco:b4586\r\n",
        "up:A5A607\teco:b4589\r\n",
        "up:A5A611\teco:b4593\r\n",
        "up:A5A612\teco:b4594\r\n",
        "up:A5A613\teco:b4595\r\n",
        "up:A5A614\teco:b4596\r\n",
        "up:A5A615\teco:b4598\r\n",
        "up:A5A616\teco:b4599\r\n",
        "up:A5A617\teco:b4601\r\n",
        "up:A5A618\teco:b4602\r\n"
       ]
      }
     ],
     "prompt_number": 65
    },
    {
     "cell_type": "markdown",
     "metadata": {},
     "source": [
      "import all_target_ids_all.csv and conv_eco_uniprot.tsv into mongoDB"
     ]
    },
    {
     "cell_type": "code",
     "collapsed": false,
     "input": [
      "!mongoimport --db keggscape --collection all_target_ids_all --headerline --type csv --file all_target_ids_all.csv"
     ],
     "language": "python",
     "metadata": {},
     "outputs": [
      {
       "output_type": "stream",
       "stream": "stdout",
       "text": [
        "connected to: 127.0.0.1\r\n"
       ]
      },
      {
       "output_type": "stream",
       "stream": "stdout",
       "text": [
        "2014-09-13T02:31:11.486+0900 check 9 4208\r\n"
       ]
      },
      {
       "output_type": "stream",
       "stream": "stdout",
       "text": [
        "2014-09-13T02:31:11.528+0900 imported 4207 objects\r\n"
       ]
      }
     ],
     "prompt_number": 67
    },
    {
     "cell_type": "code",
     "collapsed": false,
     "input": [
      "!mongoimport --db keggscape --collection conv_eco_uniprot -f uniprot_id,kegg_id --type tsv --file conv_eco_uniprot.tsv"
     ],
     "language": "python",
     "metadata": {},
     "outputs": [
      {
       "output_type": "stream",
       "stream": "stdout",
       "text": [
        "connected to: 127.0.0.1\r\n"
       ]
      },
      {
       "output_type": "stream",
       "stream": "stdout",
       "text": [
        "2014-09-13T02:31:48.319+0900 check 9 4346\r\n"
       ]
      },
      {
       "output_type": "stream",
       "stream": "stdout",
       "text": [
        "2014-09-13T02:31:48.382+0900 imported 4346 objects\r\n"
       ]
      }
     ],
     "prompt_number": 68
    },
    {
     "cell_type": "markdown",
     "metadata": {},
     "source": [
      "## Merging tables with PyMongo\n",
      "\n",
      "We integrate the three table(network nodes, drug targets table, id conversion table). Here we append columns drug target and drug to Cytoscape\u2019s node table."
     ]
    },
    {
     "cell_type": "code",
     "collapsed": false,
     "input": [
      "from pymongo import MongoClient\n",
      "\n",
      "client = MongoClient()\n",
      "db = client['keggscape']\n",
      "\n",
      "node_collection = db['alanine_nodes']\n",
      "drug_collection = db['all_target_ids_all']\n",
      "conv_collection = db['conv_eco_uniprot']\n",
      "\n",
      "gene_table = node_collection.find({\"KEGG_NODE_TYPE\": \"gene\"})"
     ],
     "language": "python",
     "metadata": {},
     "outputs": [],
     "prompt_number": 101
    },
    {
     "cell_type": "code",
     "collapsed": false,
     "input": [
      "print gene_table[3]"
     ],
     "language": "python",
     "metadata": {},
     "outputs": [
      {
       "output_type": "stream",
       "stream": "stdout",
       "text": [
        "{u'KEGG_NODE_SHAPE': u'rectangle', u'KEGG_NODE_HEIGHT': 17, u'KEGG_NODE_X': 594, u'KEGG_NODE_LABEL_LIST_FIRST': u'nadB', u'name': u'path:eco00250:41', u'SUID': 1458, u'KEGG_ID': u'eco:b2574', u'selected': u'false', u'KEGG_NODE_FILL_COLOR': u'#BFFFBF', u'KEGG_NODE_TYPE': u'gene', u'KEGG_NODE_WIDTH': 46, u'KEGG_NODE_LABEL_COLOR': u'#000000', u'shared name': u'path:eco00250:41', u'KEGG_NODE_Y': 492, u'_id': ObjectId('5412da7f84f60f949c9749da'), u'KEGG_NODE_LABEL': u'nadB', u'KEGG_NODE_REACTIONID': u'rn:R00357', u'KEGG_NODE_LABEL_LIST': u'nadB'}\n"
       ]
      }
     ],
     "prompt_number": 102
    },
    {
     "cell_type": "code",
     "collapsed": false,
     "input": [
      "import re\n",
      "\n",
      "for genes in gene_table:\n",
      "    locuses = re.findall('eco:b[0-9]{4}', genes[\"KEGG_ID\"])\n",
      "    for locus in locuses:\n",
      "        # print locus\n",
      "        ids = conv_collection.find_one({\"kegg_id\": locus})\n",
      "        drug = drug_collection.find_one({\"UniProt ID\": ids[\"uniprot_id\"].replace(\"up:\", \"\")})\n",
      "        if drug != None:\n",
      "            node_collection.update({\"_id\": genes[\"_id\"]}, {\"$push\": {\"drug_ids\": drug[\"Drug IDs\"], \"target_id\": drug[\"ID\"], \"target\": locus}})\n",
      "            node_collection.update({\"_id\": genes[\"_id\"]}, {\"$set\": {\"is_target\": 1}})"
     ],
     "language": "python",
     "metadata": {},
     "outputs": [],
     "prompt_number": 140
    },
    {
     "cell_type": "code",
     "collapsed": false,
     "input": [
      "node_collection.find({\"is_target\":1}).count()"
     ],
     "language": "python",
     "metadata": {},
     "outputs": [
      {
       "metadata": {},
       "output_type": "pyout",
       "prompt_number": 174,
       "text": [
        "12"
       ]
      }
     ],
     "prompt_number": 174
    },
    {
     "cell_type": "code",
     "collapsed": false,
     "input": [
      "node_collection.find().count()"
     ],
     "language": "python",
     "metadata": {},
     "outputs": [
      {
       "metadata": {},
       "output_type": "pyout",
       "prompt_number": 142,
       "text": [
        "102"
       ]
      }
     ],
     "prompt_number": 142
    },
    {
     "cell_type": "code",
     "collapsed": false,
     "input": [
      "new_column = {\n",
      " \"name\":\"drug_ids\",\n",
      " \"type\":\"String\"\n",
      "}\n",
      "update_column_url = BASE + \"networks/\" + str(networkIds[0]) + \"/tables/defaultnode/columns\"\n",
      "requests.post(update_column_url, data=json.dumps(new_column), headers=HEADERS)\n"
     ],
     "language": "python",
     "metadata": {},
     "outputs": [
      {
       "metadata": {},
       "output_type": "pyout",
       "prompt_number": 159,
       "text": [
        "<Response [204]>"
       ]
      }
     ],
     "prompt_number": 159
    },
    {
     "cell_type": "code",
     "collapsed": false,
     "input": [
      "new_column = {\n",
      " \"name\":\"target_id\",\n",
      " \"type\":\"String\"\n",
      "}\n",
      "update_column_url = BASE + \"networks/\" + str(networkIds[0]) + \"/tables/defaultnode/columns\"\n",
      "requests.post(update_column_url, data=json.dumps(new_column), headers=HEADERS)\n"
     ],
     "language": "python",
     "metadata": {},
     "outputs": [
      {
       "metadata": {},
       "output_type": "pyout",
       "prompt_number": 163,
       "text": [
        "<Response [204]>"
       ]
      }
     ],
     "prompt_number": 163
    },
    {
     "cell_type": "code",
     "collapsed": false,
     "input": [
      "new_column = {\n",
      " \"name\":\"target\",\n",
      " \"type\":\"String\"\n",
      "}\n",
      "update_column_url = BASE + \"networks/\" + str(networkIds[0]) + \"/tables/defaultnode/columns\"\n",
      "requests.post(update_column_url, data=json.dumps(new_column), headers=HEADERS)\n"
     ],
     "language": "python",
     "metadata": {},
     "outputs": [
      {
       "metadata": {},
       "output_type": "pyout",
       "prompt_number": 164,
       "text": [
        "<Response [204]>"
       ]
      }
     ],
     "prompt_number": 164
    },
    {
     "cell_type": "code",
     "collapsed": false,
     "input": [
      "new_column = {\n",
      " \"name\":\"is_target\",\n",
      " \"type\":\"String\"\n",
      "}\n",
      "update_column_url = BASE + \"networks/\" + str(networkIds[0]) + \"/tables/defaultnode/columns\"\n",
      "requests.post(update_column_url, data=json.dumps(new_column), headers=HEADERS)\n"
     ],
     "language": "python",
     "metadata": {},
     "outputs": [
      {
       "metadata": {},
       "output_type": "pyout",
       "prompt_number": 165,
       "text": [
        "<Response [204]>"
       ]
      }
     ],
     "prompt_number": 165
    },
    {
     "cell_type": "code",
     "collapsed": false,
     "input": [
      "new_data = {\n",
      " \"nam\n",
      "\n",
      "\n",
      "}"
     ],
     "language": "python",
     "metadata": {},
     "outputs": []
    },
    {
     "cell_type": "code",
     "collapsed": false,
     "input": [
      "node_collection.find({\"is_target\":1}).count()"
     ],
     "language": "python",
     "metadata": {},
     "outputs": [
      {
       "metadata": {},
       "output_type": "pyout",
       "prompt_number": 174,
       "text": [
        "12"
       ]
      }
     ],
     "prompt_number": 174
    },
    {
     "cell_type": "code",
     "collapsed": false,
     "input": [
      "from bson import json_util\n",
      "\n",
      "drug_columns = json_util.dumps(node_collection.find({\"is_target\":1}))\n",
      "#type(drug_columns)\n",
      "#type(json.loads(drug_columns)[1])\n",
      "print json.dumps(json.loads(drug_columns)[1], indent=4)"
     ],
     "language": "python",
     "metadata": {},
     "outputs": [
      {
       "output_type": "stream",
       "stream": "stdout",
       "text": [
        "{\n",
        "    \"KEGG_NODE_SHAPE\": \"rectangle\", \n",
        "    \"KEGG_NODE_LABEL_COLOR\": \"#000000\", \n",
        "    \"KEGG_NODE_LABEL_LIST\": \"nadB\", \n",
        "    \"KEGG_NODE_HEIGHT\": 17, \n",
        "    \"KEGG_NODE_WIDTH\": 46, \n",
        "    \"drug_ids\": [\n",
        "        \"DB03147\"\n",
        "    ], \n",
        "    \"KEGG_NODE_LABEL\": \"nadB\", \n",
        "    \"KEGG_NODE_REACTIONID\": \"rn:R00357\", \n",
        "    \"SUID\": 1458, \n",
        "    \"selected\": \"false\", \n",
        "    \"is_target\": 1, \n",
        "    \"KEGG_NODE_LABEL_LIST_FIRST\": \"nadB\", \n",
        "    \"KEGG_ID\": \"eco:b2574\", \n",
        "    \"target_id\": [\n",
        "        \"P10902\"\n",
        "    ], \n",
        "    \"KEGG_NODE_TYPE\": \"gene\", \n",
        "    \"target\": [\n",
        "        \"eco:b2574\"\n",
        "    ], \n",
        "    \"KEGG_NODE_FILL_COLOR\": \"#BFFFBF\", \n",
        "    \"name\": \"path:eco00250:41\", \n",
        "    \"KEGG_NODE_X\": 594, \n",
        "    \"shared name\": \"path:eco00250:41\", \n",
        "    \"KEGG_NODE_Y\": 492, \n",
        "    \"_id\": {\n",
        "        \"$oid\": \"5412da7f84f60f949c9749da\"\n",
        "    }\n",
        "}\n"
       ]
      }
     ],
     "prompt_number": 212
    },
    {
     "cell_type": "code",
     "collapsed": false,
     "input": [
      "new_table_data = {\n",
      "    \"key\": \"SUID\",\n",
      "    \"dataKey\": \"SUID\",\n",
      "    \"data\": json.loads(drug_columns)\n",
      "}\n",
      "print json.dumps(new_table_data, indent=4)"
     ],
     "language": "python",
     "metadata": {},
     "outputs": [
      {
       "output_type": "stream",
       "stream": "stdout",
       "text": [
        "{\n",
        "    \"dataKey\": \"SUID\", \n",
        "    \"data\": [\n",
        "        {\n",
        "            \"KEGG_NODE_SHAPE\": \"rectangle\", \n",
        "            \"KEGG_NODE_LABEL_COLOR\": \"#000000\", \n",
        "            \"KEGG_NODE_LABEL_LIST\": \"ansA...\", \n",
        "            \"KEGG_NODE_HEIGHT\": 17, \n",
        "            \"KEGG_NODE_WIDTH\": 46, \n",
        "            \"drug_ids\": [\n",
        "                \"DB01817\"\n",
        "            ], \n",
        "            \"KEGG_NODE_LABEL\": \"ansA...\", \n",
        "            \"KEGG_NODE_REACTIONID\": \"rn:R00485\", \n",
        "            \"SUID\": 1453, \n",
        "            \"selected\": \"false\", \n",
        "            \"is_target\": 1, \n",
        "            \"KEGG_NODE_LABEL_LIST_FIRST\": \"ansA...\", \n",
        "            \"KEGG_ID\": \"eco:b1767|eco:b2957\", \n",
        "            \"target_id\": [\n",
        "                \"P00805\"\n",
        "            ], \n",
        "            \"KEGG_NODE_TYPE\": \"gene\", \n",
        "            \"target\": [\n",
        "                \"eco:b2957\"\n",
        "            ], \n",
        "            \"KEGG_NODE_FILL_COLOR\": \"#BFFFBF\", \n",
        "            \"name\": \"path:eco00250:31\", \n",
        "            \"KEGG_NODE_X\": 633, \n",
        "            \"shared name\": \"path:eco00250:31\", \n",
        "            \"KEGG_NODE_Y\": 348, \n",
        "            \"_id\": {\n",
        "                \"$oid\": \"5412da7f84f60f949c9749d5\"\n",
        "            }\n",
        "        }, \n",
        "        {\n",
        "            \"KEGG_NODE_SHAPE\": \"rectangle\", \n",
        "            \"KEGG_NODE_LABEL_COLOR\": \"#000000\", \n",
        "            \"KEGG_NODE_LABEL_LIST\": \"nadB\", \n",
        "            \"KEGG_NODE_HEIGHT\": 17, \n",
        "            \"KEGG_NODE_WIDTH\": 46, \n",
        "            \"drug_ids\": [\n",
        "                \"DB03147\"\n",
        "            ], \n",
        "            \"KEGG_NODE_LABEL\": \"nadB\", \n",
        "            \"KEGG_NODE_REACTIONID\": \"rn:R00357\", \n",
        "            \"SUID\": 1458, \n",
        "            \"selected\": \"false\", \n",
        "            \"is_target\": 1, \n",
        "            \"KEGG_NODE_LABEL_LIST_FIRST\": \"nadB\", \n",
        "            \"KEGG_ID\": \"eco:b2574\", \n",
        "            \"target_id\": [\n",
        "                \"P10902\"\n",
        "            ], \n",
        "            \"KEGG_NODE_TYPE\": \"gene\", \n",
        "            \"target\": [\n",
        "                \"eco:b2574\"\n",
        "            ], \n",
        "            \"KEGG_NODE_FILL_COLOR\": \"#BFFFBF\", \n",
        "            \"name\": \"path:eco00250:41\", \n",
        "            \"KEGG_NODE_X\": 594, \n",
        "            \"shared name\": \"path:eco00250:41\", \n",
        "            \"KEGG_NODE_Y\": 492, \n",
        "            \"_id\": {\n",
        "                \"$oid\": \"5412da7f84f60f949c9749da\"\n",
        "            }\n",
        "        }, \n",
        "        {\n",
        "            \"KEGG_NODE_SHAPE\": \"rectangle\", \n",
        "            \"KEGG_NODE_LABEL_COLOR\": \"#000000\", \n",
        "            \"KEGG_NODE_LABEL_LIST\": \"aspC\", \n",
        "            \"KEGG_NODE_HEIGHT\": 17, \n",
        "            \"KEGG_NODE_WIDTH\": 46, \n",
        "            \"drug_ids\": [\n",
        "                \"DB01639; DB02024; DB02758; DB02981; DB03553; DB03629; DB03662; DB03750; DB04083; DB04299; DB04467; DB04762; DB04765\"\n",
        "            ], \n",
        "            \"KEGG_NODE_LABEL\": \"aspC\", \n",
        "            \"KEGG_NODE_REACTIONID\": \"rn:R00355\", \n",
        "            \"SUID\": 1459, \n",
        "            \"selected\": \"false\", \n",
        "            \"is_target\": 1, \n",
        "            \"KEGG_NODE_LABEL_LIST_FIRST\": \"aspC\", \n",
        "            \"KEGG_ID\": \"eco:b0928\", \n",
        "            \"target_id\": [\n",
        "                \"P00509\"\n",
        "            ], \n",
        "            \"KEGG_NODE_TYPE\": \"gene\", \n",
        "            \"target\": [\n",
        "                \"eco:b0928\"\n",
        "            ], \n",
        "            \"KEGG_NODE_FILL_COLOR\": \"#BFFFBF\", \n",
        "            \"name\": \"path:eco00250:42\", \n",
        "            \"KEGG_NODE_X\": 594, \n",
        "            \"shared name\": \"path:eco00250:42\", \n",
        "            \"KEGG_NODE_Y\": 513, \n",
        "            \"_id\": {\n",
        "                \"$oid\": \"5412da7f84f60f949c9749db\"\n",
        "            }\n",
        "        }, \n",
        "        {\n",
        "            \"KEGG_NODE_SHAPE\": \"rectangle\", \n",
        "            \"KEGG_NODE_LABEL_COLOR\": \"#000000\", \n",
        "            \"KEGG_NODE_LABEL_LIST\": \"argG\", \n",
        "            \"KEGG_NODE_HEIGHT\": 17, \n",
        "            \"KEGG_NODE_WIDTH\": 46, \n",
        "            \"drug_ids\": [\n",
        "                \"DB00536; DB04077\"\n",
        "            ], \n",
        "            \"KEGG_NODE_LABEL\": \"argG\", \n",
        "            \"KEGG_NODE_REACTIONID\": \"rn:R01954\", \n",
        "            \"SUID\": 1463, \n",
        "            \"selected\": \"false\", \n",
        "            \"is_target\": 1, \n",
        "            \"KEGG_NODE_LABEL_LIST_FIRST\": \"argG\", \n",
        "            \"KEGG_ID\": \"eco:b3172\", \n",
        "            \"target_id\": [\n",
        "                \"P0A6E4\"\n",
        "            ], \n",
        "            \"KEGG_NODE_TYPE\": \"gene\", \n",
        "            \"target\": [\n",
        "                \"eco:b3172\"\n",
        "            ], \n",
        "            \"KEGG_NODE_FILL_COLOR\": \"#BFFFBF\", \n",
        "            \"name\": \"path:eco00250:48\", \n",
        "            \"KEGG_NODE_X\": 401, \n",
        "            \"shared name\": \"path:eco00250:48\", \n",
        "            \"KEGG_NODE_Y\": 333, \n",
        "            \"_id\": {\n",
        "                \"$oid\": \"5412da7f84f60f949c9749df\"\n",
        "            }\n",
        "        }, \n",
        "        {\n",
        "            \"KEGG_NODE_SHAPE\": \"rectangle\", \n",
        "            \"KEGG_NODE_LABEL_COLOR\": \"#000000\", \n",
        "            \"KEGG_NODE_LABEL_LIST\": \"purA\", \n",
        "            \"KEGG_NODE_HEIGHT\": 17, \n",
        "            \"KEGG_NODE_WIDTH\": 46, \n",
        "            \"drug_ids\": [\n",
        "                \"DB02109; DB02493; DB02666; DB02682; DB02836; DB02954; DB03146; DB04315; DB04460; DB04566\"\n",
        "            ], \n",
        "            \"KEGG_NODE_LABEL\": \"purA\", \n",
        "            \"KEGG_NODE_REACTIONID\": \"rn:R01135\", \n",
        "            \"SUID\": 1464, \n",
        "            \"selected\": \"false\", \n",
        "            \"is_target\": 1, \n",
        "            \"KEGG_NODE_LABEL_LIST_FIRST\": \"purA\", \n",
        "            \"KEGG_ID\": \"eco:b4177\", \n",
        "            \"target_id\": [\n",
        "                \"P0A7D4\"\n",
        "            ], \n",
        "            \"KEGG_NODE_TYPE\": \"gene\", \n",
        "            \"target\": [\n",
        "                \"eco:b4177\"\n",
        "            ], \n",
        "            \"KEGG_NODE_FILL_COLOR\": \"#BFFFBF\", \n",
        "            \"name\": \"path:eco00250:49\", \n",
        "            \"KEGG_NODE_X\": 344, \n",
        "            \"shared name\": \"path:eco00250:49\", \n",
        "            \"KEGG_NODE_Y\": 333, \n",
        "            \"_id\": {\n",
        "                \"$oid\": \"5412da7f84f60f949c9749e0\"\n",
        "            }\n",
        "        }, \n",
        "        {\n",
        "            \"KEGG_NODE_SHAPE\": \"rectangle\", \n",
        "            \"KEGG_NODE_LABEL_COLOR\": \"#000000\", \n",
        "            \"KEGG_NODE_LABEL_LIST\": \"aspA\", \n",
        "            \"KEGG_NODE_HEIGHT\": 17, \n",
        "            \"KEGG_NODE_WIDTH\": 46, \n",
        "            \"drug_ids\": [\n",
        "                \"DB02379\"\n",
        "            ], \n",
        "            \"KEGG_NODE_LABEL\": \"aspA\", \n",
        "            \"KEGG_NODE_REACTIONID\": \"rn:R00490\", \n",
        "            \"SUID\": 1465, \n",
        "            \"selected\": \"false\", \n",
        "            \"is_target\": 1, \n",
        "            \"KEGG_NODE_LABEL_LIST_FIRST\": \"aspA\", \n",
        "            \"KEGG_ID\": \"eco:b4139\", \n",
        "            \"target_id\": [\n",
        "                \"P0AC38\"\n",
        "            ], \n",
        "            \"KEGG_NODE_TYPE\": \"gene\", \n",
        "            \"target\": [\n",
        "                \"eco:b4139\"\n",
        "            ], \n",
        "            \"KEGG_NODE_FILL_COLOR\": \"#BFFFBF\", \n",
        "            \"name\": \"path:eco00250:50\", \n",
        "            \"KEGG_NODE_X\": 270, \n",
        "            \"shared name\": \"path:eco00250:50\", \n",
        "            \"KEGG_NODE_Y\": 427, \n",
        "            \"_id\": {\n",
        "                \"$oid\": \"5412da7f84f60f949c9749e1\"\n",
        "            }\n",
        "        }, \n",
        "        {\n",
        "            \"KEGG_NODE_SHAPE\": \"rectangle\", \n",
        "            \"KEGG_NODE_LABEL_COLOR\": \"#000000\", \n",
        "            \"KEGG_NODE_LABEL_LIST\": \"puuE...\", \n",
        "            \"KEGG_NODE_HEIGHT\": 17, \n",
        "            \"KEGG_NODE_WIDTH\": 46, \n",
        "            \"drug_ids\": [\n",
        "                \"DB02142; DB02783\"\n",
        "            ], \n",
        "            \"KEGG_NODE_LABEL\": \"puuE...\", \n",
        "            \"KEGG_NODE_REACTIONID\": \"rn:R01648\", \n",
        "            \"SUID\": 1495, \n",
        "            \"selected\": \"false\", \n",
        "            \"is_target\": 1, \n",
        "            \"KEGG_NODE_LABEL_LIST_FIRST\": \"puuE...\", \n",
        "            \"KEGG_ID\": \"eco:b1302|eco:b2662\", \n",
        "            \"target_id\": [\n",
        "                \"P22256\"\n",
        "            ], \n",
        "            \"KEGG_NODE_TYPE\": \"gene\", \n",
        "            \"target\": [\n",
        "                \"eco:b2662\"\n",
        "            ], \n",
        "            \"KEGG_NODE_FILL_COLOR\": \"#BFFFBF\", \n",
        "            \"name\": \"path:eco00250:88\", \n",
        "            \"KEGG_NODE_X\": 338, \n",
        "            \"shared name\": \"path:eco00250:88\", \n",
        "            \"KEGG_NODE_Y\": 693, \n",
        "            \"_id\": {\n",
        "                \"$oid\": \"5412da7f84f60f949c9749ff\"\n",
        "            }\n",
        "        }, \n",
        "        {\n",
        "            \"KEGG_NODE_SHAPE\": \"rectangle\", \n",
        "            \"KEGG_NODE_LABEL_COLOR\": \"#000000\", \n",
        "            \"KEGG_NODE_LABEL_LIST\": \"gadB...\", \n",
        "            \"KEGG_NODE_HEIGHT\": 17, \n",
        "            \"KEGG_NODE_WIDTH\": 46, \n",
        "            \"drug_ids\": [\n",
        "                \"DB03553\"\n",
        "            ], \n",
        "            \"KEGG_NODE_LABEL\": \"gadB...\", \n",
        "            \"KEGG_NODE_REACTIONID\": \"rn:R00261\", \n",
        "            \"SUID\": 1496, \n",
        "            \"selected\": \"false\", \n",
        "            \"is_target\": 1, \n",
        "            \"KEGG_NODE_LABEL_LIST_FIRST\": \"gadB...\", \n",
        "            \"KEGG_ID\": \"eco:b1493|eco:b3517\", \n",
        "            \"target_id\": [\n",
        "                \"P69908\"\n",
        "            ], \n",
        "            \"KEGG_NODE_TYPE\": \"gene\", \n",
        "            \"target\": [\n",
        "                \"eco:b3517\"\n",
        "            ], \n",
        "            \"KEGG_NODE_FILL_COLOR\": \"#BFFFBF\", \n",
        "            \"name\": \"path:eco00250:90\", \n",
        "            \"KEGG_NODE_X\": 528, \n",
        "            \"shared name\": \"path:eco00250:90\", \n",
        "            \"KEGG_NODE_Y\": 704, \n",
        "            \"_id\": {\n",
        "                \"$oid\": \"5412da7f84f60f949c974a00\"\n",
        "            }\n",
        "        }, \n",
        "        {\n",
        "            \"KEGG_NODE_SHAPE\": \"rectangle\", \n",
        "            \"KEGG_NODE_LABEL_COLOR\": \"#000000\", \n",
        "            \"KEGG_NODE_LABEL_LIST\": \"glsA...\", \n",
        "            \"KEGG_NODE_HEIGHT\": 17, \n",
        "            \"KEGG_NODE_WIDTH\": 46, \n",
        "            \"drug_ids\": [\n",
        "                \"DB01942\"\n",
        "            ], \n",
        "            \"KEGG_NODE_LABEL\": \"glsA...\", \n",
        "            \"KEGG_NODE_REACTIONID\": \"rn:R00256\", \n",
        "            \"SUID\": 1499, \n",
        "            \"selected\": \"false\", \n",
        "            \"is_target\": 1, \n",
        "            \"KEGG_NODE_LABEL_LIST_FIRST\": \"glsA...\", \n",
        "            \"KEGG_ID\": \"eco:b0485|eco:b1524\", \n",
        "            \"target_id\": [\n",
        "                \"P77454\"\n",
        "            ], \n",
        "            \"KEGG_NODE_TYPE\": \"gene\", \n",
        "            \"target\": [\n",
        "                \"eco:b0485\"\n",
        "            ], \n",
        "            \"KEGG_NODE_FILL_COLOR\": \"#BFFFBF\", \n",
        "            \"name\": \"path:eco00250:96\", \n",
        "            \"KEGG_NODE_X\": 749, \n",
        "            \"shared name\": \"path:eco00250:96\", \n",
        "            \"KEGG_NODE_Y\": 743, \n",
        "            \"_id\": {\n",
        "                \"$oid\": \"5412da7f84f60f949c974a03\"\n",
        "            }\n",
        "        }, \n",
        "        {\n",
        "            \"KEGG_NODE_SHAPE\": \"rectangle\", \n",
        "            \"KEGG_NODE_LABEL_COLOR\": \"#000000\", \n",
        "            \"KEGG_NODE_LABEL_LIST\": \"putA\", \n",
        "            \"KEGG_NODE_HEIGHT\": 17, \n",
        "            \"KEGG_NODE_WIDTH\": 46, \n",
        "            \"drug_ids\": [\n",
        "                \"DB03051; DB03147; DB04398\"\n",
        "            ], \n",
        "            \"KEGG_NODE_LABEL\": \"putA\", \n",
        "            \"KEGG_NODE_REACTIONID\": \"rn:R00707 rn:R00708\", \n",
        "            \"SUID\": 1508, \n",
        "            \"selected\": \"false\", \n",
        "            \"is_target\": 1, \n",
        "            \"KEGG_NODE_LABEL_LIST_FIRST\": \"putA\", \n",
        "            \"KEGG_ID\": \"eco:b1014\", \n",
        "            \"target_id\": [\n",
        "                \"P09546\"\n",
        "            ], \n",
        "            \"KEGG_NODE_TYPE\": \"gene\", \n",
        "            \"target\": [\n",
        "                \"eco:b1014\"\n",
        "            ], \n",
        "            \"KEGG_NODE_FILL_COLOR\": \"#BFFFBF\", \n",
        "            \"name\": \"path:eco00250:112\", \n",
        "            \"KEGG_NODE_X\": 662, \n",
        "            \"shared name\": \"path:eco00250:112\", \n",
        "            \"KEGG_NODE_Y\": 778, \n",
        "            \"_id\": {\n",
        "                \"$oid\": \"5412da7f84f60f949c974a0c\"\n",
        "            }\n",
        "        }, \n",
        "        {\n",
        "            \"KEGG_NODE_SHAPE\": \"rectangle\", \n",
        "            \"KEGG_NODE_LABEL_COLOR\": \"#000000\", \n",
        "            \"KEGG_NODE_LABEL_LIST\": \"glmS\", \n",
        "            \"KEGG_NODE_HEIGHT\": 17, \n",
        "            \"KEGG_NODE_WIDTH\": 46, \n",
        "            \"drug_ids\": [\n",
        "                \"DB02007; DB02445; DB02446; DB02657; DB03581; DB03814\"\n",
        "            ], \n",
        "            \"KEGG_NODE_LABEL\": \"glmS\", \n",
        "            \"KEGG_NODE_REACTIONID\": \"rn:R00768\", \n",
        "            \"SUID\": 1509, \n",
        "            \"selected\": \"false\", \n",
        "            \"is_target\": 1, \n",
        "            \"KEGG_NODE_LABEL_LIST_FIRST\": \"glmS\", \n",
        "            \"KEGG_ID\": \"eco:b3729\", \n",
        "            \"target_id\": [\n",
        "                \"P17169\"\n",
        "            ], \n",
        "            \"KEGG_NODE_TYPE\": \"gene\", \n",
        "            \"target\": [\n",
        "                \"eco:b3729\"\n",
        "            ], \n",
        "            \"KEGG_NODE_FILL_COLOR\": \"#BFFFBF\", \n",
        "            \"name\": \"path:eco00250:114\", \n",
        "            \"KEGG_NODE_X\": 883, \n",
        "            \"shared name\": \"path:eco00250:114\", \n",
        "            \"KEGG_NODE_Y\": 656, \n",
        "            \"_id\": {\n",
        "                \"$oid\": \"5412da7f84f60f949c974a0d\"\n",
        "            }\n",
        "        }, \n",
        "        {\n",
        "            \"KEGG_NODE_SHAPE\": \"rectangle\", \n",
        "            \"KEGG_NODE_LABEL_COLOR\": \"#000000\", \n",
        "            \"KEGG_NODE_LABEL_LIST\": \"purF\", \n",
        "            \"KEGG_NODE_HEIGHT\": 17, \n",
        "            \"KEGG_NODE_WIDTH\": 46, \n",
        "            \"drug_ids\": [\n",
        "                \"DB01972; DB03942; DB04296\"\n",
        "            ], \n",
        "            \"KEGG_NODE_LABEL\": \"purF\", \n",
        "            \"KEGG_NODE_REACTIONID\": \"rn:R01072\", \n",
        "            \"SUID\": 1510, \n",
        "            \"selected\": \"false\", \n",
        "            \"is_target\": 1, \n",
        "            \"KEGG_NODE_LABEL_LIST_FIRST\": \"purF\", \n",
        "            \"KEGG_ID\": \"eco:b2312\", \n",
        "            \"target_id\": [\n",
        "                \"P0AG16\"\n",
        "            ], \n",
        "            \"KEGG_NODE_TYPE\": \"gene\", \n",
        "            \"target\": [\n",
        "                \"eco:b2312\"\n",
        "            ], \n",
        "            \"KEGG_NODE_FILL_COLOR\": \"#BFFFBF\", \n",
        "            \"name\": \"path:eco00250:116\", \n",
        "            \"KEGG_NODE_X\": 882, \n",
        "            \"shared name\": \"path:eco00250:116\", \n",
        "            \"KEGG_NODE_Y\": 755, \n",
        "            \"_id\": {\n",
        "                \"$oid\": \"5412da7f84f60f949c974a0e\"\n",
        "            }\n",
        "        }\n",
        "    ], \n",
        "    \"key\": \"SUID\"\n",
        "}\n"
       ]
      }
     ],
     "prompt_number": 213
    },
    {
     "cell_type": "code",
     "collapsed": false,
     "input": [
      "update_table_url = BASE + \"networks/\" + str(networkIds[0]) + \"/tables/defaultnode\"\n",
      "requests.put(update_table_url, data=json.dumps(new_table_data), headers=HEADERS)\n"
     ],
     "language": "python",
     "metadata": {},
     "outputs": [
      {
       "metadata": {},
       "output_type": "pyout",
       "prompt_number": 215,
       "text": [
        "<Response [204]>"
       ]
      }
     ],
     "prompt_number": 215
    },
    {
     "cell_type": "code",
     "collapsed": false,
     "input": [],
     "language": "python",
     "metadata": {},
     "outputs": []
    }
   ],
   "metadata": {}
  }
 ]
}