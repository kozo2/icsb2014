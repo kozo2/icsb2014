{
 "metadata": {
  "name": "",
  "signature": "sha256:09f3c2869536f7c76200c84d7b258ee33357803793b69a98d21e8aed7181a1e4"
 },
 "nbformat": 3,
 "nbformat_minor": 0,
 "worksheets": [
  {
   "cells": [
    {
     "cell_type": "markdown",
     "metadata": {},
     "source": [
      "# Mapping Drugbank drug targets on KEGG pathway\n",
      "Here we show a example of data integration. We map drug targets(from Drugbank) on KEGG pathway. To manage several tables, we use MongoDB and PyMongo.\n",
      "\n",
      "## Importing all data into MongoDB\n",
      "First we import [Alanine, aspartate and glutamate metabolism, eco00250](http://www.genome.jp/kegg-bin/show_pathway?eco00250)\n"
     ]
    },
    {
     "cell_type": "code",
     "collapsed": false,
     "input": [
      "import requests\n",
      "import json\n",
      "\n",
      "PORT_NUMBER = 1234\n",
      "BASE = 'http://localhost:' + str(PORT_NUMBER) + '/v1/'\n",
      "HEADERS = {'Content-Type': 'application/json'}\n",
      "\n",
      "requests.post(BASE + 'networks?source=url&collection=foo', data=json.dumps(['http://rest.kegg.jp/get/eco00250/kgml']), headers=HEADERS)"
     ],
     "language": "python",
     "metadata": {},
     "outputs": [
      {
       "metadata": {},
       "output_type": "pyout",
       "prompt_number": 6,
       "text": [
        "<Response [200]>"
       ]
      }
     ],
     "prompt_number": 6
    },
    {
     "cell_type": "markdown",
     "metadata": {},
     "source": [
      "and get node attribute table as alanine_nodes.csv"
     ]
    },
    {
     "cell_type": "code",
     "collapsed": false,
     "input": [
      "res = requests.get(BASE + 'networks')\n",
      "networkIds = eval(res.content)\n",
      "print networkIds"
     ],
     "language": "python",
     "metadata": {},
     "outputs": [
      {
       "output_type": "stream",
       "stream": "stdout",
       "text": [
        "[1428]\n"
       ]
      }
     ],
     "prompt_number": 50
    },
    {
     "cell_type": "code",
     "collapsed": false,
     "input": [
      "#res = requests.get(BASE + 'networks/' + str(networkIds[0]) + '/tables/defaultnode')\n",
      "res = requests.get(BASE + 'networks/' + str(networkIds[0]) + '/tables/defaultnode.csv')\n",
      "f = open('alanine_nodes.csv', 'w')\n",
      "f.write(res.content)\n",
      "f.close()"
     ],
     "language": "python",
     "metadata": {},
     "outputs": [],
     "prompt_number": 53
    },
    {
     "cell_type": "markdown",
     "metadata": {},
     "source": [
      "import alanine_nodes.csv into mongoDB"
     ]
    },
    {
     "cell_type": "code",
     "collapsed": false,
     "input": [
      "!mongoimport --db keggscape --collection alanine_nodes --headerline --type csv --file alanine_nodes.csv"
     ],
     "language": "python",
     "metadata": {},
     "outputs": [
      {
       "output_type": "stream",
       "stream": "stdout",
       "text": [
        "connected to: 127.0.0.1\r\n"
       ]
      },
      {
       "output_type": "stream",
       "stream": "stdout",
       "text": [
        "2014-09-12T20:35:27.764+0900 check 9 103\r\n",
        "2014-09-12T20:35:27.768+0900 imported 102 objects\r\n"
       ]
      }
     ],
     "prompt_number": 57
    },
    {
     "cell_type": "markdown",
     "metadata": {},
     "source": [
      "next we download DRUGBANK drugtarget and ID mapping table"
     ]
    },
    {
     "cell_type": "code",
     "collapsed": false,
     "input": [
      "!wget http://www.drugbank.ca/system/downloads/current/all_target_ids_all.csv.zip"
     ],
     "language": "python",
     "metadata": {},
     "outputs": [
      {
       "output_type": "stream",
       "stream": "stdout",
       "text": [
        "--2014-09-12 21:32:30--  http://www.drugbank.ca/system/downloads/current/all_target_ids_all.csv.zip\r\n",
        "Resolving www.drugbank.ca... "
       ]
      },
      {
       "output_type": "stream",
       "stream": "stdout",
       "text": [
        "162.243.242.197\r\n",
        "Connecting to www.drugbank.ca|162.243.242.197|:80... "
       ]
      },
      {
       "output_type": "stream",
       "stream": "stdout",
       "text": [
        "connected.\r\n",
        "HTTP request sent, awaiting response... "
       ]
      },
      {
       "output_type": "stream",
       "stream": "stdout",
       "text": [
        "200 OK\r\n",
        "Length: 207146 (202K) [application/zip]\r\n",
        "Saving to: 'all_target_ids_all.csv.zip'\r\n",
        "\r\n",
        "\r",
        " 0% [                                       ] 0           --.-K/s              "
       ]
      },
      {
       "output_type": "stream",
       "stream": "stdout",
       "text": [
        "\r",
        "15% [=====>                                 ] 32,832      83.1KB/s             "
       ]
      },
      {
       "output_type": "stream",
       "stream": "stdout",
       "text": [
        "\r",
        "35% [============>                          ] 72,504       121KB/s             "
       ]
      },
      {
       "output_type": "stream",
       "stream": "stdout",
       "text": [
        "\r",
        "63% [=======================>               ] 131,328      163KB/s             "
       ]
      },
      {
       "output_type": "stream",
       "stream": "stdout",
       "text": [
        "\r",
        "100%[======================================>] 207,146      205KB/s             \r",
        "100%[======================================>] 207,146      205KB/s   in 1.0s   \r\n",
        "\r\n",
        "2014-09-12 21:32:32 (205 KB/s) - 'all_target_ids_all.csv.zip' saved [207146/207146]\r\n",
        "\r\n"
       ]
      }
     ],
     "prompt_number": 63
    },
    {
     "cell_type": "code",
     "collapsed": false,
     "input": [
      "!unzip all_target_ids_all.csv.zip"
     ],
     "language": "python",
     "metadata": {},
     "outputs": [
      {
       "output_type": "stream",
       "stream": "stdout",
       "text": [
        "Archive:  all_target_ids_all.csv.zip\r\n",
        "  inflating: all_target_ids_all.csv  \r\n"
       ]
      }
     ],
     "prompt_number": 66
    },
    {
     "cell_type": "code",
     "collapsed": false,
     "input": [
      "!wget http://rest.kegg.jp/conv/eco/uniprot -O conv_eco_uniprot.tsv"
     ],
     "language": "python",
     "metadata": {},
     "outputs": [
      {
       "output_type": "stream",
       "stream": "stdout",
       "text": [
        "--2014-09-13 02:01:29--  http://rest.kegg.jp/conv/eco/uniprot\r\n",
        "Resolving rest.kegg.jp... 133.103.200.38\r\n",
        "Connecting to rest.kegg.jp|133.103.200.38|:80... connected.\r\n",
        "HTTP request sent, awaiting response... "
       ]
      },
      {
       "output_type": "stream",
       "stream": "stdout",
       "text": [
        "200 OK\r\n",
        "Length: unspecified [text/plain]\r\n",
        "Saving to: 'conv_eco_uniprot.tsv'\r\n",
        "\r\n",
        "\r",
        "    [<=>                                    ] 0           --.-K/s              "
       ]
      },
      {
       "output_type": "stream",
       "stream": "stdout",
       "text": [
        "\r",
        "    [ <=>                                   ] 86,920      --.-K/s   in 0.05s   \r\n",
        "\r\n",
        "2014-09-13 02:01:33 (1.61 MB/s) - 'conv_eco_uniprot.tsv' saved [86920]\r\n",
        "\r\n"
       ]
      }
     ],
     "prompt_number": 64
    },
    {
     "cell_type": "code",
     "collapsed": false,
     "input": [
      "!head conv_eco_uniprot.tsv"
     ],
     "language": "python",
     "metadata": {},
     "outputs": [
      {
       "output_type": "stream",
       "stream": "stdout",
       "text": [
        "up:A5A605\teco:b4586\r\n",
        "up:A5A607\teco:b4589\r\n",
        "up:A5A611\teco:b4593\r\n",
        "up:A5A612\teco:b4594\r\n",
        "up:A5A613\teco:b4595\r\n",
        "up:A5A614\teco:b4596\r\n",
        "up:A5A615\teco:b4598\r\n",
        "up:A5A616\teco:b4599\r\n",
        "up:A5A617\teco:b4601\r\n",
        "up:A5A618\teco:b4602\r\n"
       ]
      }
     ],
     "prompt_number": 65
    },
    {
     "cell_type": "markdown",
     "metadata": {},
     "source": [
      "import all_target_ids_all.csv and conv_eco_uniprot.tsv into mongoDB"
     ]
    },
    {
     "cell_type": "code",
     "collapsed": false,
     "input": [
      "!mongoimport --db keggscape --collection all_target_ids_all --headerline --type csv --file all_target_ids_all.csv"
     ],
     "language": "python",
     "metadata": {},
     "outputs": [
      {
       "output_type": "stream",
       "stream": "stdout",
       "text": [
        "connected to: 127.0.0.1\r\n"
       ]
      },
      {
       "output_type": "stream",
       "stream": "stdout",
       "text": [
        "2014-09-13T02:31:11.486+0900 check 9 4208\r\n"
       ]
      },
      {
       "output_type": "stream",
       "stream": "stdout",
       "text": [
        "2014-09-13T02:31:11.528+0900 imported 4207 objects\r\n"
       ]
      }
     ],
     "prompt_number": 67
    },
    {
     "cell_type": "code",
     "collapsed": false,
     "input": [
      "!mongoimport --db keggscape --collection conv_eco_uniprot -f uniprot_id,kegg_id --type tsv --file conv_eco_uniprot.tsv"
     ],
     "language": "python",
     "metadata": {},
     "outputs": [
      {
       "output_type": "stream",
       "stream": "stdout",
       "text": [
        "connected to: 127.0.0.1\r\n"
       ]
      },
      {
       "output_type": "stream",
       "stream": "stdout",
       "text": [
        "2014-09-13T02:31:48.319+0900 check 9 4346\r\n"
       ]
      },
      {
       "output_type": "stream",
       "stream": "stdout",
       "text": [
        "2014-09-13T02:31:48.382+0900 imported 4346 objects\r\n"
       ]
      }
     ],
     "prompt_number": 68
    },
    {
     "cell_type": "markdown",
     "metadata": {},
     "source": [
      "## Merging tables with PyMongo\n",
      "\n",
      "We integrate the three table(network nodes, drug targets table, id conversion table). Here we append columns drug target and drug to Cytoscape\u2019s node table."
     ]
    },
    {
     "cell_type": "code",
     "collapsed": false,
     "input": [
      "from pymongo import MongoClient\n",
      "\n",
      "client = MongoClient()\n",
      "db = client['keggscape']\n",
      "\n",
      "node_collection = db['alanine_nodes']\n",
      "drug_collection = db['all_target_ids_all']\n",
      "conv_collection = db['conv_eco_uniprot']\n",
      "\n",
      "gene_table = node_collection.find({\"KEGG_NODE_TYPE\": \"gene\"})"
     ],
     "language": "python",
     "metadata": {},
     "outputs": [],
     "prompt_number": 97
    },
    {
     "cell_type": "code",
     "collapsed": false,
     "input": [
      "print gene_table[3]"
     ],
     "language": "python",
     "metadata": {},
     "outputs": [
      {
       "output_type": "stream",
       "stream": "stdout",
       "text": [
        "{u'KEGG_NODE_SHAPE': u'rectangle', u'KEGG_NODE_HEIGHT': 17, u'KEGG_NODE_X': 594, u'KEGG_NODE_LABEL_LIST_FIRST': u'nadB', u'name': u'path:eco00250:41', u'SUID': 1458, u'KEGG_ID': u'eco:b2574', u'selected': u'false', u'KEGG_NODE_FILL_COLOR': u'#BFFFBF', u'KEGG_NODE_TYPE': u'gene', u'KEGG_NODE_WIDTH': 46, u'KEGG_NODE_LABEL_COLOR': u'#000000', u'shared name': u'path:eco00250:41', u'KEGG_NODE_Y': 492, u'_id': ObjectId('5412da7f84f60f949c9749da'), u'KEGG_NODE_LABEL': u'nadB', u'KEGG_NODE_REACTIONID': u'rn:R00357', u'KEGG_NODE_LABEL_LIST': u'nadB'}\n"
       ]
      }
     ],
     "prompt_number": 93
    },
    {
     "cell_type": "code",
     "collapsed": false,
     "input": [
      "import re\n",
      "\n",
      "for genes in gene_table:\n",
      "    locuses = re.findall('eco:b[0-9]{4}', genes[\"KEGG_ID\"])\n",
      "    for locus in locuses:\n",
      "        # print locus\n",
      "        ids = conv_collection.find_one({\"kegg_id\": locus})\n",
      "        drug = drug_collection.find_one({\"UniProt ID\": ids[\"uniprot_id\"].replace(\"up:\", \"\")})\n",
      "        if drug != None:\n",
      "            print drug\n",
      "            print locus"
     ],
     "language": "python",
     "metadata": {},
     "outputs": [
      {
       "output_type": "stream",
       "stream": "stdout",
       "text": [
        "{u'GeneCard ID': u'', u'Name': u'L-aspartate oxidase', u'HGNC ID': u'', u'Uniprot Title': u'NADB_ECOLI', u'Drug IDs': u'DB03147', u'Species': u'Escherichia coli (strain K12)', u'GenAtlas ID': u'', u'GenBank Gene ID': u'X12714', u'GenBank Protein ID': u'', u'PDB ID': u'', u'_id': ObjectId('54132ddf84f60f949c975442'), u'ID': u'P10902', u'UniProt ID': u'P10902', u'Gene Name': u'nadB'}\n",
        "eco:b2574\n",
        "{u'GeneCard ID': u'', u'Name': u'Aspartate aminotransferase', u'HGNC ID': u'', u'Uniprot Title': u'AAT_ECOLI', u'Drug IDs': u'DB01639; DB02024; DB02758; DB02981; DB03553; DB03629; DB03662; DB03750; DB04083; DB04299; DB04467; DB04762; DB04765', u'Species': u'Escherichia coli (strain K12)', u'GenAtlas ID': u'', u'GenBank Gene ID': u'X03629', u'GenBank Protein ID': 41011, u'PDB ID': u'', u'_id': ObjectId('54132ddf84f60f949c974e7f'), u'ID': u'P00509', u'UniProt ID': u'P00509', u'Gene Name': u'aspC'}\n",
        "eco:b0928\n",
        "{u'GeneCard ID': u'', u'Name': u'Argininosuccinate synthase', u'HGNC ID': u'', u'Uniprot Title': u'ASSY_ECOLI', u'Drug IDs': u'DB00536; DB04077', u'Species': u'Escherichia coli (strain K12)', u'GenAtlas ID': u'', u'GenBank Gene ID': u'M35236', u'GenBank Protein ID': 145342, u'PDB ID': u'', u'_id': ObjectId('54132ddf84f60f949c97508b'), u'ID': u'P0A6E4', u'UniProt ID': u'P0A6E4', u'Gene Name': u'argG'}\n",
        "eco:b3172\n",
        "{u'GeneCard ID': u'', u'Name': u'Adenylosuccinate synthetase', u'HGNC ID': u'', u'Uniprot Title': u'PURA_ECOLI', u'Drug IDs': u'DB02109; DB02493; DB02666; DB02682; DB02836; DB02954; DB03146; DB04315; DB04460; DB04566', u'Species': u'Escherichia coli (strain K12)', u'GenAtlas ID': u'', u'GenBank Gene ID': u'J04199', u'GenBank Protein ID': 147406, u'PDB ID': u'', u'_id': ObjectId('54132ddf84f60f949c974f5d'), u'ID': u'P0A7D4', u'UniProt ID': u'P0A7D4', u'Gene Name': u'purA'}\n",
        "eco:b4177\n",
        "{u'GeneCard ID': u'', u'Name': u'Aspartate ammonia-lyase', u'HGNC ID': u'', u'Uniprot Title': u'ASPA_ECOLI', u'Drug IDs': u'DB02379', u'Species': u'Escherichia coli (strain K12)', u'GenAtlas ID': u'', u'GenBank Gene ID': u'X02307', u'GenBank Protein ID': u'', u'PDB ID': u'', u'_id': ObjectId('54132ddf84f60f949c9751b9'), u'ID': u'P0AC38', u'UniProt ID': u'P0AC38', u'Gene Name': u'aspA'}\n",
        "eco:b4139\n",
        "{u'GeneCard ID': u'', u'Name': u'4-aminobutyrate aminotransferase GabT', u'HGNC ID': u'', u'Uniprot Title': u'GABT_ECOLI', u'Drug IDs': u'DB02142; DB02783', u'Species': u'Escherichia coli (strain K12)', u'GenAtlas ID': u'', u'GenBank Gene ID': u'M88334', u'GenBank Protein ID': 147902, u'PDB ID': u'', u'_id': ObjectId('54132ddf84f60f949c974fa0'), u'ID': u'P22256', u'UniProt ID': u'P22256', u'Gene Name': u'gabT'}"
       ]
      },
      {
       "output_type": "stream",
       "stream": "stdout",
       "text": [
        "\n",
        "eco:b2662\n",
        "{u'GeneCard ID': u'', u'Name': u'Glutamate decarboxylase alpha', u'HGNC ID': u'', u'Uniprot Title': u'DCEA_ECOLI', u'Drug IDs': u'DB03553', u'Species': u'Escherichia coli (strain K12)', u'GenAtlas ID': u'', u'GenBank Gene ID': u'M84024', u'GenBank Protein ID': u'', u'PDB ID': u'', u'_id': ObjectId('54132ddf84f60f949c9754b0'), u'ID': u'P69908', u'UniProt ID': u'P69908', u'Gene Name': u'gadA'}\n",
        "eco:b3517\n",
        "{u'GeneCard ID': u'', u'Name': u'Glutaminase 1', u'HGNC ID': u'', u'Uniprot Title': u'GLSA1_ECOLI', u'Drug IDs': u'DB01942', u'Species': u'Escherichia coli (strain K12)', u'GenAtlas ID': u'', u'GenBank Gene ID': u'U82664', u'GenBank Protein ID': u'', u'PDB ID': u'', u'_id': ObjectId('54132ddf84f60f949c975399'), u'ID': u'P77454', u'UniProt ID': u'P77454', u'Gene Name': u'glsA1'}\n",
        "eco:b0485\n",
        "{u'GeneCard ID': u'', u'Name': u'Bifunctional protein PutA', u'HGNC ID': u'', u'Uniprot Title': u'PUTA_ECOLI', u'Drug IDs': u'DB03051; DB03147; DB04398', u'Species': u'Escherichia coli (strain K12)', u'GenAtlas ID': u'', u'GenBank Gene ID': u'U05212', u'GenBank Protein ID': 468875, u'PDB ID': u'', u'_id': ObjectId('54132ddf84f60f949c9750aa'), u'ID': u'P09546', u'UniProt ID': u'P09546', u'Gene Name': u'putA'}\n",
        "eco:b1014\n",
        "{u'GeneCard ID': u'', u'Name': u'Glutamine--fructose-6-phosphate aminotransferase [isomerizing]', u'HGNC ID': u'', u'Uniprot Title': u'GLMS_ECOLI', u'Drug IDs': u'DB02007; DB02445; DB02446; DB02657; DB03581; DB03814', u'Species': u'Escherichia coli (strain K12)', u'GenAtlas ID': u'', u'GenBank Gene ID': u'X01631', u'GenBank Protein ID': 43268, u'PDB ID': u'', u'_id': ObjectId('54132ddf84f60f949c974f4b'), u'ID': u'P17169', u'UniProt ID': u'P17169', u'Gene Name': u'glmS'}\n",
        "eco:b3729\n",
        "{u'GeneCard ID': u'', u'Name': u'Amidophosphoribosyltransferase', u'HGNC ID': u'', u'Uniprot Title': u'PUR1_ECOLI', u'Drug IDs': u'DB01972; DB03942; DB04296', u'Species': u'Escherichia coli (strain K12)', u'GenAtlas ID': u'', u'GenBank Gene ID': u'X12423', u'GenBank Protein ID': 42593, u'PDB ID': u'', u'_id': ObjectId('54132ddf84f60f949c97519d'), u'ID': u'P0AG16', u'UniProt ID': u'P0AG16', u'Gene Name': u'purF'}\n",
        "eco:b2312\n"
       ]
      }
     ],
     "prompt_number": 99
    }
   ],
   "metadata": {}
  }
 ]
}